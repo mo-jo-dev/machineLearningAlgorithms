{
 "cells": [
  {
   "cell_type": "code",
   "execution_count": null,
   "id": "e748fbbf",
   "metadata": {},
   "outputs": [],
   "source": [
    "import numpy as np\n",
    "import matplotlib.pyplot as plt\n",
    "import csv"
   ]
  },
  {
   "cell_type": "code",
   "execution_count": null,
   "id": "a912275a",
   "metadata": {},
   "outputs": [],
   "source": [
    "def read_csv(file_path):\n",
    "    with open(file_path, 'r') as file:\n",
    "        reader = csv.reader(file)\n",
    "        data = list(reader)\n",
    "        columns = data[0]\n",
    "        data = data[1:]\n",
    "        return data, columns\n",
    "\n",
    "data, columns = read_csv('./clustering.csv')\n",
    "print(columns)\n",
    "for row in data:\n",
    "    print(row)"
   ]
  },
  {
   "cell_type": "code",
   "execution_count": null,
   "id": "d93bf7dd",
   "metadata": {},
   "outputs": [],
   "source": [
    "# Identify indices for LoanAmount and ApplicantIncome\n",
    "loan_amount_index = columns.index('LoanAmount')\n",
    "applicant_income_index = columns.index('ApplicantIncome')"
   ]
  },
  {
   "cell_type": "code",
   "execution_count": null,
   "id": "d97865fd",
   "metadata": {},
   "outputs": [],
   "source": [
    "# Extract the specific columns\n",
    "loan_amounts = []\n",
    "applicant_incomes = []\n",
    "\n",
    "for row in data:\n",
    "    loan_amounts.append(float(row[loan_amount_index]))\n",
    "    applicant_incomes.append(float(row[applicant_income_index]))"
   ]
  },
  {
   "cell_type": "code",
   "execution_count": null,
   "id": "4ffcbe05",
   "metadata": {},
   "outputs": [],
   "source": [
    "# Convert lists to numpy arrays\n",
    "loan_amounts = np.array(loan_amounts)\n",
    "applicant_incomes = np.array(applicant_incomes)\n",
    "\n",
    "# Stack columns to create a 2D array\n",
    "data_array = np.column_stack((loan_amounts, applicant_incomes))"
   ]
  },
  {
   "cell_type": "code",
   "execution_count": null,
   "id": "6078af22",
   "metadata": {},
   "outputs": [],
   "source": [
    "K = 3"
   ]
  },
  {
   "cell_type": "code",
   "execution_count": null,
   "id": "58dc3d29",
   "metadata": {},
   "outputs": [],
   "source": [
    "# Randomly initialize centroids\n",
    "np.random.seed(42)  # For reproducibility\n",
    "initial_indices = np.random.choice(len(data_array), K, replace=False)\n",
    "centroids = data_array[initial_indices, :]"
   ]
  },
  {
   "cell_type": "code",
   "execution_count": null,
   "id": "bbbdb007",
   "metadata": {},
   "outputs": [],
   "source": [
    "# Plot initial data\n",
    "plt.scatter(data_array[:, 1], data_array[:, 0], c='black')\n",
    "plt.scatter(centroids[:, 1], centroids[:, 0], c='red')\n",
    "plt.xlabel('Annual Income')\n",
    "plt.ylabel('Loan Amount (In Thousands)')\n",
    "plt.show()"
   ]
  },
  {
   "cell_type": "code",
   "execution_count": null,
   "id": "cc7f0034",
   "metadata": {},
   "outputs": [],
   "source": [
    "diff = 1\n",
    "j = 0\n",
    "\n",
    "while diff != 0:\n",
    "    # Calculate distances from points to centroids\n",
    "    distances = np.linalg.norm(data_array[:, np.newaxis] - centroids, axis=2)\n",
    "\n",
    "    # Assign clusters based on minimum distance\n",
    "    clusters = np.argmin(distances, axis=1)\n",
    "\n",
    "    # Compute new centroids\n",
    "    new_centroids = np.array([data_array[clusters == k].mean(axis=0) for k in range(K)])\n",
    "    \n",
    "    # Handle empty clusters by reassigning a random data point as the new centroid\n",
    "    for idx, centroid in enumerate(new_centroids):\n",
    "        if np.isnan(centroid).any():\n",
    "            new_centroids[idx] = data_array[np.random.choice(len(data_array))]\n",
    "    \n",
    "    # Check for convergence\n",
    "    if j == 0:\n",
    "        diff = 1\n",
    "        j += 1\n",
    "    else:\n",
    "        diff = np.sum(np.abs(new_centroids - centroids))\n",
    "        print(diff)\n",
    "\n",
    "    centroids = new_centroids"
   ]
  },
  {
   "cell_type": "code",
   "execution_count": null,
   "id": "26cc1c9e",
   "metadata": {},
   "outputs": [],
   "source": [
    "# Plot final clusters\n",
    "colors = ['blue', 'green', 'cyan']\n",
    "for k in range(K):\n",
    "    cluster_data = data_array[clusters == k]\n",
    "    plt.scatter(cluster_data[:, 1], cluster_data[:, 0], c=colors[k])\n",
    "\n",
    "plt.scatter(centroids[:, 1], centroids[:, 0], c='red')\n",
    "plt.xlabel('Annual Income')\n",
    "plt.ylabel('Loan Amount (In Thousands)')\n",
    "plt.show()"
   ]
  },
  {
   "cell_type": "code",
   "execution_count": null,
   "id": "85d7d625",
   "metadata": {},
   "outputs": [],
   "source": []
  }
 ],
 "metadata": {
  "kernelspec": {
   "display_name": "Python 3 (ipykernel)",
   "language": "python",
   "name": "python3"
  },
  "language_info": {
   "codemirror_mode": {
    "name": "ipython",
    "version": 3
   },
   "file_extension": ".py",
   "mimetype": "text/x-python",
   "name": "python",
   "nbconvert_exporter": "python",
   "pygments_lexer": "ipython3",
   "version": "3.11.5"
  }
 },
 "nbformat": 4,
 "nbformat_minor": 5
}
