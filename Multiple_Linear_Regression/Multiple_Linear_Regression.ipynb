{
 "cells": [
  {
   "cell_type": "markdown",
   "id": "3b980dce",
   "metadata": {},
   "source": [
    "# Importing required Libraries"
   ]
  },
  {
   "cell_type": "code",
   "execution_count": null,
   "id": "4524b922",
   "metadata": {},
   "outputs": [],
   "source": [
    "import pandas as pd\n",
    "import numpy as np\n",
    "import matplotlib.pyplot as plt\n",
    "from sklearn.linear_model import LinearRegression\n",
    "from sklearn.model_selection import train_test_split\n",
    "from sklearn.metrics import r2_score"
   ]
  },
  {
   "cell_type": "markdown",
   "id": "dc35deb2",
   "metadata": {},
   "source": [
    "# Reading the Dataset"
   ]
  },
  {
   "cell_type": "code",
   "execution_count": null,
   "id": "bbeda0c8",
   "metadata": {},
   "outputs": [],
   "source": [
    "data = pd.read_csv('./50_Startups.csv')\n",
    "data.head(5)"
   ]
  },
  {
   "cell_type": "markdown",
   "id": "173b2b0b",
   "metadata": {},
   "source": [
    "# Hot Encoding the string values"
   ]
  },
  {
   "cell_type": "code",
   "execution_count": null,
   "id": "8acc911b",
   "metadata": {},
   "outputs": [],
   "source": [
    "ny = []\n",
    "cal = []\n",
    "florida = []\n",
    "\n",
    "for val in data['State'] :\n",
    "    ny.append(1 if val=='New York' else 0)\n",
    "    cal.append(1 if val=='California' else 0)\n",
    "    florida.append(1 if val=='Florida' else 0)"
   ]
  },
  {
   "cell_type": "code",
   "execution_count": null,
   "id": "6bb582ca",
   "metadata": {},
   "outputs": [],
   "source": [
    "data['ny'] = ny\n",
    "data['cal'] = cal\n",
    "data['florida'] = florida\n",
    "data = data.drop(columns=['State'])"
   ]
  },
  {
   "cell_type": "code",
   "execution_count": null,
   "id": "8a69baa5",
   "metadata": {},
   "outputs": [],
   "source": [
    "data.head()"
   ]
  },
  {
   "cell_type": "markdown",
   "id": "10165ebc",
   "metadata": {},
   "source": [
    "# Scaling of data"
   ]
  },
  {
   "cell_type": "code",
   "execution_count": null,
   "id": "33336d71",
   "metadata": {},
   "outputs": [],
   "source": [
    "data_max_scaled = data.copy()\n",
    "column = 'R&D Spend'\n",
    "data_max_scaled[column] = data_max_scaled[column] /data_max_scaled[column].abs().max()\n",
    "column = 'Administration'\n",
    "data_max_scaled[column] = data_max_scaled[column] /data_max_scaled[column].abs().max()\n",
    "column = 'Marketing Spend'\n",
    "data_max_scaled[column] = data_max_scaled[column] /data_max_scaled[column].abs().max()\n",
    "display(data_max_scaled.head()) "
   ]
  },
  {
   "cell_type": "markdown",
   "id": "3ed48ccc",
   "metadata": {},
   "source": [
    "# Splitting the data and testing the model"
   ]
  },
  {
   "cell_type": "code",
   "execution_count": null,
   "id": "06f4b2b9",
   "metadata": {},
   "outputs": [],
   "source": [
    "y = data_max_scaled['Profit']\n",
    "X = data_max_scaled.drop(columns=['Profit'])\n",
    "X_train,X_test, y_train,  y_test = train_test_split(X, y, random_state=536)\n",
    "model = LinearRegression()\n",
    "model.fit(X_train, y_train)"
   ]
  },
  {
   "cell_type": "code",
   "execution_count": null,
   "id": "31184653",
   "metadata": {},
   "outputs": [],
   "source": [
    "predicted = model.predict(X_test)\n",
    "predicted"
   ]
  },
  {
   "cell_type": "code",
   "execution_count": null,
   "id": "8a8e4a00",
   "metadata": {},
   "outputs": [],
   "source": [
    "r2_score(predicted,y_test)"
   ]
  },
  {
   "cell_type": "markdown",
   "id": "8ae2310f",
   "metadata": {},
   "source": [
    "# Trying on single feature"
   ]
  },
  {
   "cell_type": "code",
   "execution_count": null,
   "id": "95f028d0",
   "metadata": {},
   "outputs": [],
   "source": [
    "newdata = pd.read_csv('./50_Startups.csv')\n",
    "Xsingle = newdata['Marketing Spend'].values.reshape(-1, 1)  # Reshape to a 2D array\n",
    "ysingle = newdata['Profit'].values"
   ]
  },
  {
   "cell_type": "code",
   "execution_count": null,
   "id": "8dac0c83",
   "metadata": {},
   "outputs": [],
   "source": [
    "Xsingle_train, Xsingle_test, ysingle_train, ysingle_test = train_test_split(Xsingle, ysingle, random_state=536)\n",
    "\n",
    "single_model = LinearRegression()\n",
    "single_model.fit(Xsingle_train, ysingle_train)"
   ]
  },
  {
   "cell_type": "code",
   "execution_count": null,
   "id": "e9d535f7",
   "metadata": {},
   "outputs": [],
   "source": [
    "single_prediction = single_model.predict(Xsingle_test)"
   ]
  },
  {
   "cell_type": "code",
   "execution_count": null,
   "id": "fc8fc49b",
   "metadata": {},
   "outputs": [],
   "source": [
    "r2_score(single_prediction, ysingle_test)"
   ]
  },
  {
   "cell_type": "code",
   "execution_count": null,
   "id": "eb47c710",
   "metadata": {},
   "outputs": [],
   "source": [
    "import seaborn as sns\n",
    "import statsmodels.api as sm"
   ]
  },
  {
   "cell_type": "code",
   "execution_count": null,
   "id": "fc98b144",
   "metadata": {
    "scrolled": true
   },
   "outputs": [],
   "source": [
    "sns.set()\n",
    "cols = ['Profit', 'R&D Spend', 'Marketing Spend', 'Administration']\n",
    "sns.pairplot(data[cols], height = 2.5)\n",
    "plt.show();"
   ]
  },
  {
   "cell_type": "markdown",
   "id": "3b24d788",
   "metadata": {},
   "source": [
    "# Plotting Histogram"
   ]
  },
  {
   "cell_type": "code",
   "execution_count": null,
   "id": "5dd55086",
   "metadata": {},
   "outputs": [],
   "source": [
    "%matplotlib inline\n",
    "plt.figure(figsize=(12,10))\n",
    "cor = data.corr()\n",
    "sns.heatmap(cor, annot=True, cmap=plt.cm.Reds)\n",
    "plt.show()"
   ]
  },
  {
   "cell_type": "code",
   "execution_count": null,
   "id": "fbe3321c",
   "metadata": {},
   "outputs": [],
   "source": [
    "from scipy.stats import norm\n",
    "from scipy import stats\n",
    "sns.distplot(data['Profit'], fit=norm);\n",
    "fig = plt.figure()\n",
    "res = stats.probplot(data['Profit'], plot=plt)"
   ]
  },
  {
   "cell_type": "code",
   "execution_count": null,
   "id": "200288ba",
   "metadata": {},
   "outputs": [],
   "source": []
  }
 ],
 "metadata": {
  "kernelspec": {
   "display_name": "Python 3 (ipykernel)",
   "language": "python",
   "name": "python3"
  },
  "language_info": {
   "codemirror_mode": {
    "name": "ipython",
    "version": 3
   },
   "file_extension": ".py",
   "mimetype": "text/x-python",
   "name": "python",
   "nbconvert_exporter": "python",
   "pygments_lexer": "ipython3",
   "version": "3.11.5"
  }
 },
 "nbformat": 4,
 "nbformat_minor": 5
}
