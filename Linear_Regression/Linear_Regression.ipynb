{
 "cells": [
  {
   "cell_type": "code",
   "execution_count": null,
   "id": "b9f1d5cc",
   "metadata": {},
   "outputs": [],
   "source": [
    "import numpy as np\n",
    "import matplotlib.pyplot as plt\n",
    "import random\n",
    "import csv"
   ]
  },
  {
   "cell_type": "code",
   "execution_count": null,
   "id": "20986673",
   "metadata": {},
   "outputs": [],
   "source": [
    "def read_csv(file_path):\n",
    "    with open(file_path, 'r') as file:\n",
    "        reader = csv.reader(file)\n",
    "        data = list(reader)\n",
    "        columns = data[0]\n",
    "        data = data[1:]\n",
    "        return data, columns\n",
    "\n",
    "data, columns = read_csv('./Salary.csv')\n",
    "print(columns)\n",
    "for row in data:\n",
    "    print(row)"
   ]
  },
  {
   "cell_type": "code",
   "execution_count": null,
   "id": "ec6917aa",
   "metadata": {},
   "outputs": [],
   "source": [
    "def train_test_splitter(X, y, test_size = 0.2):\n",
    "    indices = list(range(len(X)))\n",
    "    random.shuffle(indices)\n",
    "    \n",
    "    test_set_size = int(len(X) * test_size)\n",
    "    \n",
    "    test_indices = indices[:test_set_size]\n",
    "    train_indices = indices[test_set_size:]\n",
    "    \n",
    "    X_train = np.array([X[i] for i in train_indices])\n",
    "    X_test = np.array([X[i] for i in test_indices])\n",
    "    y_train = np.array([y[i] for i in train_indices])\n",
    "    y_test = np.array([y[i] for i in test_indices])\n",
    "    \n",
    "    return X_test, y_train, X_train, y_test"
   ]
  },
  {
   "cell_type": "code",
   "execution_count": null,
   "id": "e1460ced",
   "metadata": {},
   "outputs": [],
   "source": [
    "class SimpleLinearRegression:\n",
    "    \n",
    "    def __init__(self, learning_rate=0.01, iterations = 2000):\n",
    "        self.learning_rate=learning_rate\n",
    "        self.iterations=iterations\n",
    "        self.cofficients = None\n",
    "        self.intercept = None\n",
    "        \n",
    "    def predict(self, X):\n",
    "        return self.intercept + self.cofficients * X\n",
    "        \n",
    "    def fit(self,X,y):\n",
    "        self.cofficients = 0\n",
    "        self.intercept = 0\n",
    "        n=len(X)\n",
    "        \n",
    "        for i in range(self.iterations):\n",
    "            y_predicted = self.predict(X)\n",
    "            \n",
    "            d_cofficient = (-2/n)*sum(X*(y-y_predicted))\n",
    "            d_intercept =  (-2/n) *sum((y-y_predicted))\n",
    "            \n",
    "            self.cofficients -= self.learning_rate * d_cofficient\n",
    "            self.intercept -= self.learning_rate * d_intercept"
   ]
  },
  {
   "cell_type": "code",
   "execution_count": null,
   "id": "904093a9",
   "metadata": {},
   "outputs": [],
   "source": [
    "X = [float(row[0]) for row in data]\n",
    "y = [float(row[1]) for row in data]\n",
    "X_test, y_train, X_train, y_test = train_test_splitter(X,y)\n",
    "print(y_test)"
   ]
  },
  {
   "cell_type": "code",
   "execution_count": null,
   "id": "f9dfff5b",
   "metadata": {},
   "outputs": [],
   "source": [
    "model = SimpleLinearRegression()"
   ]
  },
  {
   "cell_type": "code",
   "execution_count": null,
   "id": "dcaa50f9",
   "metadata": {},
   "outputs": [],
   "source": [
    "model.fit(X_train, y_train)\n",
    "predicted = model.predict(X_test)"
   ]
  },
  {
   "cell_type": "code",
   "execution_count": null,
   "id": "99243d81",
   "metadata": {},
   "outputs": [],
   "source": [
    "plt.scatter(X_test, y_test )\n",
    "plt.legend('a')\n",
    "# plt.show()\n",
    "plt.plot(X_test, predicted)"
   ]
  },
  {
   "cell_type": "code",
   "execution_count": null,
   "id": "16b400fe",
   "metadata": {},
   "outputs": [],
   "source": [
    "from sklearn.metrics import r2_score as r2_scr"
   ]
  },
  {
   "cell_type": "code",
   "execution_count": null,
   "id": "32291c11",
   "metadata": {},
   "outputs": [],
   "source": [
    "r2_scr(y_test, predicted)"
   ]
  },
  {
   "cell_type": "code",
   "execution_count": null,
   "id": "0436584b",
   "metadata": {},
   "outputs": [],
   "source": [
    "df = pd.DataFrame(data = {'predicted' : predicted, 'actual' : y_test})\n",
    "df"
   ]
  },
  {
   "cell_type": "code",
   "execution_count": null,
   "id": "260be638",
   "metadata": {},
   "outputs": [],
   "source": [
    "mse = (np.square(np.subtract(predicted,y_test)).mean())\n",
    "mse"
   ]
  },
  {
   "cell_type": "code",
   "execution_count": null,
   "id": "9274f4a9",
   "metadata": {},
   "outputs": [],
   "source": [
    "from sklearn.metrics import mean_squared_error\n",
    "mean_squared_error(predicted,y_test)"
   ]
  }
 ],
 "metadata": {
  "kernelspec": {
   "display_name": "Python 3 (ipykernel)",
   "language": "python",
   "name": "python3"
  },
  "language_info": {
   "codemirror_mode": {
    "name": "ipython",
    "version": 3
   },
   "file_extension": ".py",
   "mimetype": "text/x-python",
   "name": "python",
   "nbconvert_exporter": "python",
   "pygments_lexer": "ipython3",
   "version": "3.10.12"
  }
 },
 "nbformat": 4,
 "nbformat_minor": 5
}
