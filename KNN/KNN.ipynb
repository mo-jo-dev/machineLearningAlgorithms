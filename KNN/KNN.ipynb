{
 "cells": [
  {
   "cell_type": "code",
   "execution_count": null,
   "id": "c14d1ebc",
   "metadata": {},
   "outputs": [],
   "source": [
    "import numpy as np\n",
    "import matplotlib.pyplot as plt\n",
    "import random\n",
    "import csv"
   ]
  },
  {
   "cell_type": "code",
   "execution_count": null,
   "id": "d7bb7dfe",
   "metadata": {},
   "outputs": [],
   "source": [
    "def read_csv(file_path):\n",
    "    with open(file_path, 'r') as file:\n",
    "        reader = csv.reader(file)\n",
    "        data = list(reader)\n",
    "        columns = data[0]\n",
    "        data = data[1:]\n",
    "        return data, columns\n",
    "\n",
    "data, columns = read_csv('./Iris.csv')\n",
    "print(columns)\n",
    "for row in data:\n",
    "    print(row)"
   ]
  },
  {
   "cell_type": "code",
   "execution_count": null,
   "id": "7066b11a",
   "metadata": {},
   "outputs": [],
   "source": [
    "def train_test_splitter(X, y, test_size = 0.2):\n",
    "    indices = list(range(len(X)))\n",
    "    random.shuffle(indices)\n",
    "    \n",
    "    test_set_size = int(len(X) * test_size)\n",
    "    \n",
    "    test_indices = indices[:test_set_size]\n",
    "    train_indices = indices[test_set_size:]\n",
    "    \n",
    "    X_train = np.array([X[i] for i in train_indices])\n",
    "    X_test = np.array([X[i] for i in test_indices])\n",
    "    y_train = np.array([y[i] for i in train_indices])\n",
    "    y_test = np.array([y[i] for i in test_indices])\n",
    "    \n",
    "    return X_test, y_train, X_train, y_test"
   ]
  },
  {
   "cell_type": "code",
   "execution_count": null,
   "id": "d0aaf16d",
   "metadata": {},
   "outputs": [],
   "source": [
    "X = [row[:-1] for row in data]  # All columns except the last one\n",
    "y = [row[-1] for row in data]   # Only the last column\n",
    "\n",
    "print(\"First few rows of X before conversion:\", X[:5])\n",
    "print(\"First few rows of y before conversion:\", y[:5])\n",
    "\n",
    "X = [[float(value) for value in row] for row in X]\n",
    "y = [(value) for value in y]\n",
    "\n",
    "print(\"First few rows of X after conversion:\", X[:5])\n",
    "print(\"First few rows of y after conversion:\", y[:5])\n",
    "\n",
    "X_test, y_train, X_train, y_test = train_test_splitter(X,y,1/3)\n",
    "\n",
    "print(\"X_test:\", X_test)\n",
    "print(\"y_test:\", y_test)\n",
    "print(\"X_train:\", X_train)\n",
    "np.set_printoptions(suppress=True)  # Suppress scientific notation for small numbers\n",
    "print(\"X_train after suppression:\",X_train)\n",
    "print(\"y_train:\", y_train)"
   ]
  },
  {
   "cell_type": "code",
   "execution_count": null,
   "id": "e5434a65",
   "metadata": {},
   "outputs": [],
   "source": [
    "def euclidean_distance(x1, x2):\n",
    "    distance = np.sqrt(np.sum((x1-x2)**2))\n",
    "    return distance "
   ]
  },
  {
   "cell_type": "code",
   "execution_count": null,
   "id": "6188a7c5",
   "metadata": {},
   "outputs": [],
   "source": [
    "class KNN:\n",
    "    def __init__(self, k=3):\n",
    "        self.k = k\n",
    "        \n",
    "    def fit(self, X, y):\n",
    "        self.X_train = X\n",
    "        self.y_train = y\n",
    "        \n",
    "    def predict(self, X):\n",
    "        predictions = [self._predict(x) for x in X]\n",
    "        return predictions\n",
    "    \n",
    "    def _predict(self, x):\n",
    "        # compute the distance\n",
    "        distances = [euclidean_distance(x, x_train) for x_train in self.X_train]\n",
    "        \n",
    "        # get closest k\n",
    "        k_indices = np.argsort(distances)[:self.k]\n",
    "        k_nearest_labels = [self.y_train[i] for i in k_indices]\n",
    "        \n",
    "        # manually count occurrences of each label\n",
    "        label_counts = {}\n",
    "        for label in k_nearest_labels:\n",
    "            if label in label_counts:\n",
    "                label_counts[label] += 1\n",
    "            else:\n",
    "                label_counts[label] = 1\n",
    "        \n",
    "        # find the most common label\n",
    "        most_common_label = max(label_counts, key=label_counts.get)\n",
    "        return most_common_label"
   ]
  },
  {
   "cell_type": "code",
   "execution_count": null,
   "id": "df256fb1",
   "metadata": {},
   "outputs": [],
   "source": [
    "clf = KNN(k=5)\n",
    "clf.fit(X_train, y_train)\n",
    "predictions = clf.predict(X_test)\n",
    "\n",
    "print(predictions, \"\\n\")\n",
    "\n",
    "acc = np.sum(predictions == y_test) / len(y_test)\n",
    "print(acc * 100,'%')"
   ]
  },
  {
   "cell_type": "code",
   "execution_count": null,
   "id": "1bd2be0c",
   "metadata": {},
   "outputs": [],
   "source": []
  }
 ],
 "metadata": {
  "kernelspec": {
   "display_name": "Python 3 (ipykernel)",
   "language": "python",
   "name": "python3"
  },
  "language_info": {
   "codemirror_mode": {
    "name": "ipython",
    "version": 3
   },
   "file_extension": ".py",
   "mimetype": "text/x-python",
   "name": "python",
   "nbconvert_exporter": "python",
   "pygments_lexer": "ipython3",
   "version": "3.11.5"
  }
 },
 "nbformat": 4,
 "nbformat_minor": 5
}
