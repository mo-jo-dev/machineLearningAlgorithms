{
 "cells": [
  {
   "cell_type": "code",
   "execution_count": null,
   "id": "b8624492",
   "metadata": {},
   "outputs": [],
   "source": [
    "pip install --upgrade pandas"
   ]
  },
  {
   "cell_type": "code",
   "execution_count": null,
   "id": "ac3d3083",
   "metadata": {},
   "outputs": [],
   "source": [
    "import math\n",
    "import random\n",
    "import csv\n",
    "import pandas as pd\n",
    "import numpy as np\n",
    "from sklearn.model_selection import train_test_split\n",
    "from sklearn.datasets import load_wine\n",
    "from sklearn.svm import SVC\n",
    "from sklearn.metrics import accuracy_score as asc"
   ]
  },
  {
   "cell_type": "code",
   "execution_count": null,
   "id": "fb168e86",
   "metadata": {},
   "outputs": [],
   "source": [
    "wine = load_wine()"
   ]
  },
  {
   "cell_type": "code",
   "execution_count": null,
   "id": "15b9029e",
   "metadata": {},
   "outputs": [],
   "source": [
    "data = wine.data\n",
    "feature = wine.feature_names\n",
    "target_name = wine.target_names\n",
    "target = wine.target"
   ]
  },
  {
   "cell_type": "code",
   "execution_count": null,
   "id": "5c6fea8a",
   "metadata": {},
   "outputs": [],
   "source": [
    "dict = {\n",
    "    \"alcohol\" : data[:,0] , \n",
    "    \"malic_acid\" : data[:,1] ,\n",
    "    \"ash\" : data[:,2] ,\n",
    "    \"alcalinity_of_ash\" : data[:,3] ,\n",
    "    \"magnesium\" : data[:,4] ,\n",
    "    \"total_phenols\" : data[:,5] ,\n",
    "    \"flavanoids\" : data[:,6] ,\n",
    "    \"nonflavanoid_phenols\" : data[:,7] ,\n",
    "    \"proanthocyanins\" : data[:,8] ,\n",
    "    \"color_intensity\" : data[:,9] ,\n",
    "    \"hue\" : data[:,10] ,\n",
    "    \"od280/od315_of_diluted_wines\" : data[:,11] ,\n",
    "    \"proline\" : data[:,12] ,\n",
    "    \"Target\" : target\n",
    "}"
   ]
  },
  {
   "cell_type": "code",
   "execution_count": null,
   "id": "8057a743",
   "metadata": {},
   "outputs": [],
   "source": [
    "df = pd.DataFrame(data)\n",
    "df"
   ]
  },
  {
   "cell_type": "code",
   "execution_count": null,
   "id": "cc661d1a",
   "metadata": {},
   "outputs": [],
   "source": [
    "df.columns = wine.feature_names\n",
    "df"
   ]
  },
  {
   "cell_type": "code",
   "execution_count": null,
   "id": "54c2b528",
   "metadata": {},
   "outputs": [],
   "source": [
    "X_train, X_test, y_train, y_test = train_test_split(data,target,test_size=0.2)"
   ]
  },
  {
   "cell_type": "code",
   "execution_count": null,
   "id": "4c2af931",
   "metadata": {},
   "outputs": [],
   "source": [
    "clf = SVC(kernel = 'linear')"
   ]
  },
  {
   "cell_type": "code",
   "execution_count": null,
   "id": "690254fa",
   "metadata": {},
   "outputs": [],
   "source": [
    "clf.fit(X_train,y_train)\n",
    "pred = clf.predict(X_test)"
   ]
  },
  {
   "cell_type": "code",
   "execution_count": null,
   "id": "725828d8",
   "metadata": {},
   "outputs": [],
   "source": [
    "cmp = pd.DataFrame(y_test)\n",
    "cmp['SVM'] = pred\n",
    "cmp.head()"
   ]
  },
  {
   "cell_type": "code",
   "execution_count": null,
   "id": "db9ff7b7",
   "metadata": {},
   "outputs": [],
   "source": [
    "asc(y_test,pred)"
   ]
  },
  {
   "cell_type": "code",
   "execution_count": null,
   "id": "b6e0342b",
   "metadata": {},
   "outputs": [],
   "source": [
    "from sklearn.discriminant_analysis import LinearDiscriminantAnalysis as LDA"
   ]
  },
  {
   "cell_type": "code",
   "execution_count": null,
   "id": "80f4552c",
   "metadata": {},
   "outputs": [],
   "source": [
    "lda = LDA()\n",
    "df_lda = lda.fit_transform(df, target)\n",
    "df_lda = pd.DataFrame(df_lda)\n",
    "data = df_lda\n",
    "df_lda.head()"
   ]
  },
  {
   "cell_type": "code",
   "execution_count": null,
   "id": "45be7b6c",
   "metadata": {},
   "outputs": [],
   "source": [
    "X_train, X_test, y_train, y_test = train_test_split(data, target, test_size = 0.2, stratify = target, random_state = 30)"
   ]
  },
  {
   "cell_type": "code",
   "execution_count": null,
   "id": "68088498",
   "metadata": {},
   "outputs": [],
   "source": [
    "clf.fit(X_train, y_train)\n",
    "pred1 = clf.predict(X_test)"
   ]
  },
  {
   "cell_type": "code",
   "execution_count": null,
   "id": "2c5d7740",
   "metadata": {},
   "outputs": [],
   "source": [
    "cmp['SVM_LDA'] = pred1\n",
    "cmp.head()"
   ]
  },
  {
   "cell_type": "code",
   "execution_count": null,
   "id": "af8c25a1",
   "metadata": {},
   "outputs": [],
   "source": [
    "asc(y_test, pred1)"
   ]
  },
  {
   "cell_type": "code",
   "execution_count": null,
   "id": "7adfe08a",
   "metadata": {},
   "outputs": [],
   "source": []
  }
 ],
 "metadata": {
  "kernelspec": {
   "display_name": "Python 3 (ipykernel)",
   "language": "python",
   "name": "python3"
  },
  "language_info": {
   "codemirror_mode": {
    "name": "ipython",
    "version": 3
   },
   "file_extension": ".py",
   "mimetype": "text/x-python",
   "name": "python",
   "nbconvert_exporter": "python",
   "pygments_lexer": "ipython3",
   "version": "3.11.5"
  }
 },
 "nbformat": 4,
 "nbformat_minor": 5
}
