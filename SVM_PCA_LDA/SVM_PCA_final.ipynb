{
 "cells": [
  {
   "cell_type": "code",
   "execution_count": null,
   "id": "c409721e",
   "metadata": {},
   "outputs": [],
   "source": [
    "pip install --upgrade pandas"
   ]
  },
  {
   "cell_type": "code",
   "execution_count": null,
   "id": "ac3eb514",
   "metadata": {},
   "outputs": [],
   "source": [
    "import math\n",
    "import random\n",
    "import csv\n",
    "import pandas as pd\n",
    "import numpy as np\n",
    "from sklearn.model_selection import train_test_split\n",
    "from sklearn.datasets import load_wine\n",
    "from sklearn.svm import SVC\n",
    "from sklearn.metrics import accuracy_score as asc"
   ]
  },
  {
   "cell_type": "code",
   "execution_count": null,
   "id": "641822b1",
   "metadata": {},
   "outputs": [],
   "source": [
    "wine = load_wine()"
   ]
  },
  {
   "cell_type": "code",
   "execution_count": null,
   "id": "b0a61a37",
   "metadata": {},
   "outputs": [],
   "source": [
    "data = wine.data\n",
    "feature = wine.feature_names\n",
    "target_name = wine.target_names\n",
    "target = wine.target"
   ]
  },
  {
   "cell_type": "code",
   "execution_count": null,
   "id": "e14c6d0a",
   "metadata": {},
   "outputs": [],
   "source": [
    "dict = {\n",
    "    \"alcohol\" : data[:,0] , \n",
    "    \"malic_acid\" : data[:,1] ,\n",
    "    \"ash\" : data[:,2] ,\n",
    "    \"alcalinity_of_ash\" : data[:,3] ,\n",
    "    \"magnesium\" : data[:,4] ,\n",
    "    \"total_phenols\" : data[:,5] ,\n",
    "    \"flavanoids\" : data[:,6] ,\n",
    "    \"nonflavanoid_phenols\" : data[:,7] ,\n",
    "    \"proanthocyanins\" : data[:,8] ,\n",
    "    \"color_intensity\" : data[:,9] ,\n",
    "    \"hue\" : data[:,10] ,\n",
    "    \"od280/od315_of_diluted_wines\" : data[:,11] ,\n",
    "    \"proline\" : data[:,12] ,\n",
    "    \"Target\" : target\n",
    "}"
   ]
  },
  {
   "cell_type": "code",
   "execution_count": null,
   "id": "1378ce8e",
   "metadata": {},
   "outputs": [],
   "source": [
    "df = pd.DataFrame(data)\n",
    "df"
   ]
  },
  {
   "cell_type": "code",
   "execution_count": null,
   "id": "b369a3d5",
   "metadata": {},
   "outputs": [],
   "source": [
    "df.columns = wine.feature_names\n",
    "df"
   ]
  },
  {
   "cell_type": "code",
   "execution_count": null,
   "id": "360ab681",
   "metadata": {},
   "outputs": [],
   "source": [
    "X_train, X_test, y_train, y_test = train_test_split(data,target,test_size=0.2)"
   ]
  },
  {
   "cell_type": "code",
   "execution_count": null,
   "id": "47a017f8",
   "metadata": {},
   "outputs": [],
   "source": [
    "clf = SVC(kernel = 'linear')"
   ]
  },
  {
   "cell_type": "code",
   "execution_count": null,
   "id": "a54fa802",
   "metadata": {},
   "outputs": [],
   "source": [
    "clf.fit(X_train,y_train)\n",
    "pred = clf.predict(X_test)"
   ]
  },
  {
   "cell_type": "code",
   "execution_count": null,
   "id": "03ce2d71",
   "metadata": {},
   "outputs": [],
   "source": [
    "cmp = pd.DataFrame(y_test)\n",
    "cmp['SVM'] = pred\n",
    "cmp.head()"
   ]
  },
  {
   "cell_type": "code",
   "execution_count": null,
   "id": "2b32347e",
   "metadata": {},
   "outputs": [],
   "source": [
    "asc(y_test,pred)"
   ]
  },
  {
   "cell_type": "code",
   "execution_count": null,
   "id": "199fc615",
   "metadata": {},
   "outputs": [],
   "source": [
    "from sklearn.decomposition import PCA"
   ]
  },
  {
   "cell_type": "code",
   "execution_count": null,
   "id": "c7c7f81f",
   "metadata": {},
   "outputs": [],
   "source": [
    "pca = PCA(n_components = 4)\n",
    "df_pca = pca.fit_transform(df_orig)\n",
    "df_pca = pd.DataFrame(df_pca)\n",
    "data = df_pca\n",
    "df_pca.head()"
   ]
  },
  {
   "cell_type": "code",
   "execution_count": null,
   "id": "d59fe07e",
   "metadata": {},
   "outputs": [],
   "source": [
    "X_train, X_test, y_train, y_test = train_test_split(data, target, test_size = 0.2, stratify = target, random_state = 30)"
   ]
  },
  {
   "cell_type": "code",
   "execution_count": null,
   "id": "ae616874",
   "metadata": {},
   "outputs": [],
   "source": [
    "clf.fit(X_train, y_train)\n",
    "pred1 = clf.predict(X_test)"
   ]
  },
  {
   "cell_type": "code",
   "execution_count": null,
   "id": "620a198b",
   "metadata": {},
   "outputs": [],
   "source": [
    "cmp['SVM_PCA'] = pred1\n",
    "cmp.head()"
   ]
  },
  {
   "cell_type": "code",
   "execution_count": null,
   "id": "e71238ef",
   "metadata": {},
   "outputs": [],
   "source": [
    "asc(y_test, pred1)"
   ]
  },
  {
   "cell_type": "code",
   "execution_count": null,
   "id": "bfe68d9c",
   "metadata": {},
   "outputs": [],
   "source": []
  }
 ],
 "metadata": {
  "kernelspec": {
   "display_name": "Python 3 (ipykernel)",
   "language": "python",
   "name": "python3"
  },
  "language_info": {
   "codemirror_mode": {
    "name": "ipython",
    "version": 3
   },
   "file_extension": ".py",
   "mimetype": "text/x-python",
   "name": "python",
   "nbconvert_exporter": "python",
   "pygments_lexer": "ipython3",
   "version": "3.11.5"
  }
 },
 "nbformat": 4,
 "nbformat_minor": 5
}
