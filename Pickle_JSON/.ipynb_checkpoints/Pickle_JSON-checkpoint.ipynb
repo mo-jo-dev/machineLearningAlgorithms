{
 "cells": [
  {
   "cell_type": "code",
   "execution_count": null,
   "id": "807fe59c",
   "metadata": {},
   "outputs": [],
   "source": [
    "import json\n",
    "\n",
    "data = {\n",
    "    'name': 'John',\n",
    "    'age': 30,\n",
    "    'city': 'New York'\n",
    "}\n",
    "\n",
    "json_string = json.dumps(data)\n",
    "print(\"JSON string:\", json_string)\n",
    "\n",
    "parsed_data = json.loads(json_string)\n",
    "print(\"Parsed data:\", parsed_data)"
   ]
  },
  {
   "cell_type": "code",
   "execution_count": null,
   "id": "9d281fb5",
   "metadata": {},
   "outputs": [],
   "source": [
    "import pickle\n",
    "\n",
    "data = {\n",
    "    'name': 'John',\n",
    "    'age': 30,\n",
    "    'city': 'New York'\n",
    "}\n",
    "\n",
    "pickle_bytes = pickle.dumps(data)\n",
    "print(\"Pickle bytes:\", pickle_bytes)\n",
    "\n",
    "parsed_data = pickle.loads(pickle_bytes)\n",
    "print(\"Parsed data:\", parsed_data)"
   ]
  },
  {
   "cell_type": "code",
   "execution_count": null,
   "id": "695f3159",
   "metadata": {},
   "outputs": [],
   "source": [
    "import pandas as pd\n",
    "from sklearn.datasets import load_iris\n",
    "import json\n",
    "import pickle\n",
    "import matplotlib.pyplot as plt\n",
    "import seaborn as sns\n",
    "\n",
    "# Load the Iris dataset\n",
    "iris = load_iris()\n",
    "data = iris.data\n",
    "target = iris.target\n",
    "target_names = iris.target_names\n",
    "\n",
    "# Create a DataFrame from the iris data\n",
    "df = pd.DataFrame(data, columns=iris.feature_names)\n",
    "df['species'] = target_names[target]\n",
    "\n",
    "# Save the data to JSON\n",
    "with open('iris_data.json', 'w') as f:\n",
    "    json.dump(df.to_dict(), f)\n",
    "\n",
    "# Save the data to pickle\n",
    "with open('iris_data.pkl', 'wb') as f:\n",
    "    pickle.dump(df, f)\n",
    "\n",
    "# Visualize the data\n",
    "# Load data from JSON file\n",
    "with open('iris_data.json', 'r') as f:\n",
    "    json_data = json.load(f)\n",
    "\n",
    "# Load data from pickle file\n",
    "with open('iris_data.pkl', 'rb') as f:\n",
    "    pickle_data = pickle.load(f)\n",
    "\n",
    "# Display the contents of both files\n",
    "print(\"Contents of JSON file:\")\n",
    "print(json_data)\n",
    "\n",
    "print(\"\\nContents of pickle file:\")\n",
    "print(pickle_data)\n",
    "\n",
    "# Pairplot\n",
    "sns.pairplot(df, hue='species')\n",
    "plt.suptitle('Pairplot of Iris Dataset', y=1.02)\n",
    "plt.show()\n",
    "\n",
    "# Boxplot\n",
    "plt.figure(figsize=(10, 6))\n",
    "sns.boxplot(x='species', y='petal length (cm)', data=df)\n",
    "plt.title('Petal Length by Species')\n",
    "plt.xlabel('Species')\n",
    "plt.ylabel('Petal Length (cm)')\n",
    "plt.show()"
   ]
  },
  {
   "cell_type": "code",
   "execution_count": null,
   "id": "4b2752d3",
   "metadata": {},
   "outputs": [],
   "source": []
  }
 ],
 "metadata": {
  "kernelspec": {
   "display_name": "Python 3 (ipykernel)",
   "language": "python",
   "name": "python3"
  },
  "language_info": {
   "codemirror_mode": {
    "name": "ipython",
    "version": 3
   },
   "file_extension": ".py",
   "mimetype": "text/x-python",
   "name": "python",
   "nbconvert_exporter": "python",
   "pygments_lexer": "ipython3",
   "version": "3.11.5"
  }
 },
 "nbformat": 4,
 "nbformat_minor": 5
}
